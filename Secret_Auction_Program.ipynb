{
  "nbformat": 4,
  "nbformat_minor": 0,
  "metadata": {
    "colab": {
      "provenance": []
    },
    "kernelspec": {
      "name": "python3",
      "display_name": "Python 3"
    },
    "language_info": {
      "name": "python"
    }
  },
  "cells": [
    {
      "cell_type": "code",
      "source": [
        "import os\n",
        "import platform\n",
        "\n",
        "auction_dict = {}\n",
        "\n",
        "while True:\n",
        "    name = input(\"What is your name?: \")\n",
        "    bid = int(input(\"What is your bid?:$ \"))\n",
        "    auction_dict[name] = bid\n",
        "\n",
        "    more_bidders = input(\"Are there any other bidders? Type 'yes' or 'no': \")\n",
        "    if more_bidders.lower() == 'no':\n",
        "         break\n",
        "\n",
        "    # Clear console output\n",
        "    if platform.system() == \"Windows\":\n",
        "        os.system('cls')\n",
        "    else:\n",
        "        os.system('clear')\n",
        "\n",
        "highest_bid = 0\n",
        "highest_bidder = \"\"\n",
        "for name, bid in auction_dict.items():\n",
        "    if bid > highest_bid:\n",
        "        highest_bid = bid\n",
        "        highest_bidder = name\n",
        "\n",
        "print(f\"The highest bidder is {highest_bidder} with a bid of ${highest_bid}\")\n",
        "\n"
      ],
      "metadata": {
        "colab": {
          "base_uri": "https://localhost:8080/"
        },
        "id": "K-pHK_Xg325b",
        "outputId": "bf5c7674-1d23-4490-a193-ecbcb9e005db"
      },
      "execution_count": 47,
      "outputs": [
        {
          "output_type": "stream",
          "name": "stdout",
          "text": [
            "What is your name?: sookc\n",
            "What is your bid?:$ 100\n",
            "Are there any other bidders? Type 'yes' or 'no': yes\n",
            "What is your name?: jon\n",
            "What is your bid?:$ 99\n",
            "Are there any other bidders? Type 'yes' or 'no': no\n",
            "The highest bidder is sookc with a bid of $100\n"
          ]
        }
      ]
    }
  ]
}